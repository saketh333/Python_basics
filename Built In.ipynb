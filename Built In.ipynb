{
 "cells": [
  {
   "cell_type": "markdown",
   "metadata": {},
   "source": [
    "# Function Arguments"
   ]
  },
  {
   "cell_type": "markdown",
   "metadata": {},
   "source": [
    "We can pass arbitrary number of arguments to a python fuction using *args as a function parameter"
   ]
  },
  {
   "cell_type": "code",
   "execution_count": 8,
   "metadata": {},
   "outputs": [
    {
     "name": "stdout",
     "output_type": "stream",
     "text": [
      "1\n",
      "(2, 3, 4, 5)\n"
     ]
    }
   ],
   "source": [
    "# *args\n",
    "\n",
    "def numbers(param1, *args):\n",
    "    print (param1)\n",
    "    print (args)\n",
    "    \n",
    "numbers(1,2,3,4,5)  "
   ]
  },
  {
   "cell_type": "markdown",
   "metadata": {},
   "source": [
    ">Passing default values to a function parameter, with this if we do not pass a agrument for that parameter it will take the default value instead. "
   ]
  },
  {
   "cell_type": "code",
   "execution_count": 11,
   "metadata": {},
   "outputs": [
    {
     "name": "stdout",
     "output_type": "stream",
     "text": [
      "Good\n",
      "Bad\n"
     ]
    }
   ],
   "source": [
    "# default\n",
    "\n",
    "def name(x,y, food = 'Good'):\n",
    "    print (food)\n",
    "\n",
    "name(1,2)\n",
    "name(1,2, 'Bad')    \n",
    "    "
   ]
  },
  {
   "cell_type": "markdown",
   "metadata": {},
   "source": [
    "using __**kwargs__(keyword arguments) we can pass undefined named arguments to the function"
   ]
  },
  {
   "cell_type": "code",
   "execution_count": 12,
   "metadata": {},
   "outputs": [
    {
     "name": "stdout",
     "output_type": "stream",
     "text": [
      "{}\n",
      "{'name': 'sai'}\n"
     ]
    }
   ],
   "source": [
    "# **kwargs\n",
    "\n",
    "def name(x,y,**kwargs):\n",
    "    print (kwargs)\n",
    "\n",
    "    \n",
    "name(1,2)\n",
    "\n",
    "name(1,2,name = 'sai')"
   ]
  },
  {
   "cell_type": "markdown",
   "metadata": {},
   "source": [
    "> here kwargs is a dictionary object "
   ]
  },
  {
   "cell_type": "markdown",
   "metadata": {},
   "source": [
    "# Ternary operator"
   ]
  },
  {
   "cell_type": "code",
   "execution_count": 15,
   "metadata": {},
   "outputs": [
    {
     "name": "stdout",
     "output_type": "stream",
     "text": [
      "1\n"
     ]
    }
   ],
   "source": [
    "a = 5\n",
    "\n",
    "b = 1 if a>= 1 else 50\n",
    "\n",
    "print (b)"
   ]
  },
  {
   "cell_type": "markdown",
   "metadata": {},
   "source": [
    "> This can be really useful when assigning values to the variables based on a condition and also results in less overall code "
   ]
  },
  {
   "cell_type": "markdown",
   "metadata": {},
   "source": [
    "# else"
   ]
  },
  {
   "cell_type": "markdown",
   "metadata": {},
   "source": [
    "The else statement can also be used with while and for loops\n",
    "\n",
    "In this case the else will be called if the output finishes normally"
   ]
  },
  {
   "cell_type": "code",
   "execution_count": 23,
   "metadata": {},
   "outputs": [
    {
     "name": "stdout",
     "output_type": "stream",
     "text": [
      "else 1\n",
      "if 2\n"
     ]
    }
   ],
   "source": [
    "# else\n",
    "\n",
    "for i in range(10):\n",
    "    if i == 111:\n",
    "        print (\"if 1\")\n",
    "        break\n",
    "else:\n",
    "    print (\"else 1\")\n",
    "    \n",
    "    \n",
    "\n",
    "for i in range(10):\n",
    "    if i == 1:\n",
    "        print (\"if 2\")\n",
    "        break\n",
    "else:\n",
    "    print (\"else 2\")    "
   ]
  },
  {
   "cell_type": "markdown",
   "metadata": {},
   "source": [
    "> we can also use this with try and expect"
   ]
  },
  {
   "cell_type": "code",
   "execution_count": 32,
   "metadata": {},
   "outputs": [
    {
     "name": "stdout",
     "output_type": "stream",
     "text": [
      "first case:\n",
      "impossible\n",
      "\n",
      "second case:\n",
      "1.0\n",
      "No error\n"
     ]
    }
   ],
   "source": [
    "# else\n",
    "\n",
    "i = 1\n",
    "\n",
    "print (\"first case:\")\n",
    "\n",
    "try:\n",
    "    print (i/0)\n",
    "except ZeroDivisionError:\n",
    "    print (\"impossible\")\n",
    "else:\n",
    "    print (\"No error\")\n",
    "\n",
    "    \n",
    "print (\"\\nsecond case:\") \n",
    "    \n",
    "    \n",
    "try:\n",
    "    print (i/1)\n",
    "except ZeroDivisionError:\n",
    "    print (\"impossible\")\n",
    "else:\n",
    "    print (\"No error\")\n"
   ]
  },
  {
   "cell_type": "code",
   "execution_count": null,
   "metadata": {
    "collapsed": true
   },
   "outputs": [],
   "source": []
  }
 ],
 "metadata": {
  "kernelspec": {
   "display_name": "Python 3",
   "language": "python",
   "name": "python3"
  },
  "language_info": {
   "codemirror_mode": {
    "name": "ipython",
    "version": 3
   },
   "file_extension": ".py",
   "mimetype": "text/x-python",
   "name": "python",
   "nbconvert_exporter": "python",
   "pygments_lexer": "ipython3",
   "version": "3.6.1"
  }
 },
 "nbformat": 4,
 "nbformat_minor": 2
}
