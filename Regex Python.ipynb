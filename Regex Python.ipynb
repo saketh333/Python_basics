{
 "cells": [
  {
   "cell_type": "markdown",
   "metadata": {},
   "source": [
    "This notebook includes basics to using regular expressions (python)\n",
    "\n",
    "https://www.sololearn.com/Play/Python/\n",
    "    "
   ]
  },
  {
   "cell_type": "code",
   "execution_count": 2,
   "metadata": {},
   "outputs": [
    {
     "name": "stdout",
     "output_type": "stream",
     "text": [
      "No match\n",
      "match\n",
      "match\n",
      "<_sre.SRE_Match object; span=(3, 8), match='hello'>\n"
     ]
    }
   ],
   "source": [
    "# regular expressions are available as standard library can be imported using re module\n",
    "import re \n",
    "\n",
    "to_match = r\"hello\" # raw string\n",
    "\n",
    "# match function checks if the given string matches the beginning of the string\n",
    "if re.match(to_match, r\"heyhellohihola\"):\n",
    "  print (\"match\")\n",
    "else:\n",
    "  print(\"No match\")\n",
    "\n",
    "# other regular expression functions re.search, re.findall\n",
    "\n",
    "# search searches for that string in the given string  \n",
    "if re.search(to_match, r\"heyhellohihola\"):\n",
    "  print (\"match\")\n",
    "else:\n",
    "  print(\"No match\")\n",
    "\n",
    "# finds and prints all the matched strings  \n",
    "if re.findall(to_match, r\"heyhellohihola\"):\n",
    "  print (\"match\")\n",
    "else:\n",
    "  print(\"No match\")\n",
    "\n",
    "# function re.finditer does the same thing as findall but returns an iterator\n",
    "iter =  re.finditer(to_match, r\"heyhellohihola\")\n",
    "for i in iter:\n",
    "    print (i)\n"
   ]
  },
  {
   "cell_type": "markdown",
   "metadata": {},
   "source": [
    "> Other methods that can be called on object returned by re.search are group(), start(), end(), span()"
   ]
  },
  {
   "cell_type": "code",
   "execution_count": 11,
   "metadata": {},
   "outputs": [
    {
     "name": "stdout",
     "output_type": "stream",
     "text": [
      "hello\n",
      "3\n",
      "8\n",
      "(3, 8)\n"
     ]
    }
   ],
   "source": [
    "search = re.search(to_match, r\"heyhellohihola\")\n",
    "print (search.group())\n",
    "print (search.start())\n",
    "print (search.end())\n",
    "print (search.span())"
   ]
  },
  {
   "cell_type": "markdown",
   "metadata": {},
   "source": [
    "> using __sub__ to search and replace a pattern in a given string"
   ]
  },
  {
   "cell_type": "code",
   "execution_count": 13,
   "metadata": {},
   "outputs": [
    {
     "data": {
      "text/plain": [
       "'hello my name is Sai Saketh'"
      ]
     },
     "execution_count": 13,
     "metadata": {},
     "output_type": "execute_result"
    }
   ],
   "source": [
    "# this subs the string with the given string from the string\n",
    "re.sub(\"Sai\", \"Sai Saketh\", \"hello my name is Sai\")"
   ]
  },
  {
   "cell_type": "markdown",
   "metadata": {},
   "source": [
    "# MetaCharacters\n",
    "\n",
    "This is what makes a regex more functional than a regular string method.\n",
    "\n",
    "we need to use a raw string"
   ]
  },
  {
   "cell_type": "code",
   "execution_count": 16,
   "metadata": {},
   "outputs": [
    {
     "name": "stdout",
     "output_type": "stream",
     "text": [
      "matches\n",
      "matches\n"
     ]
    }
   ],
   "source": [
    "# . (dot) \n",
    "\n",
    "pattern = r\"he..o\"\n",
    "\n",
    "if re.match(pattern, \"hello\"):\n",
    "    print (\"matches\")\n",
    "if re.match(pattern, \"heylo\"):\n",
    "    print (\"matches\")"
   ]
  },
  {
   "cell_type": "markdown",
   "metadata": {},
   "source": [
    "In the above regex using the dot metacharacter there can be anything in place of dot but the other parts of the string should match "
   ]
  },
  {
   "cell_type": "markdown",
   "metadata": {},
   "source": [
    "> Using ^ & $ metacharacters these match the start and end of a string"
   ]
  },
  {
   "cell_type": "code",
   "execution_count": 22,
   "metadata": {},
   "outputs": [
    {
     "name": "stdout",
     "output_type": "stream",
     "text": [
      "does not match 1\n",
      "matches 2\n"
     ]
    }
   ],
   "source": [
    "# ^ & $\n",
    "\n",
    "pattern = r\"^he..o$\"\n",
    "\n",
    "if re.match(pattern, \"gewwo\"):\n",
    "    print (\"matches 1\")\n",
    "else:\n",
    "    print (\"does not match 1\")\n",
    "    \n",
    "if re.match(pattern, \"heylo\"):\n",
    "    print (\"matches 2\")\n",
    "else:\n",
    "    print (\"does not match 2\")    "
   ]
  },
  {
   "cell_type": "markdown",
   "metadata": {},
   "source": [
    "# Character Classes\n",
    "\n",
    "This is used to match only a specific set of characters\n",
    "\n",
    "we can match set of charaters by placing them in between square brackets"
   ]
  },
  {
   "cell_type": "code",
   "execution_count": 27,
   "metadata": {},
   "outputs": [
    {
     "name": "stdout",
     "output_type": "stream",
     "text": [
      "does not match 1\n",
      "matches 2\n",
      "does not match 1 (search)\n",
      "matches 2 (search)\n"
     ]
    }
   ],
   "source": [
    "# [hlo]\n",
    "\n",
    "pattern = r\"[hlo]\"\n",
    "\n",
    "if re.match(pattern, \"gewwo\"):\n",
    "    print (\"matches 1\")\n",
    "else:\n",
    "    print (\"does not match 1\")\n",
    "    \n",
    "if re.match(pattern, \"heylo\"):\n",
    "    print (\"matches 2\")\n",
    "else:\n",
    "    print (\"does not match 2\") \n",
    "    \n",
    "# using search function\n",
    "if re.search(pattern, \"gewwo\"):\n",
    "    print (\"matches 1 (search)\")\n",
    "else:\n",
    "    print (\"does not match 1 (search)\")\n",
    "    \n",
    "if re.search(pattern, \"heylo\"):\n",
    "    print (\"matches 2 (search)\")\n",
    "else:\n",
    "    print (\"does not match 2 (search)\")     "
   ]
  },
  {
   "cell_type": "markdown",
   "metadata": {},
   "source": [
    "> Using this [hlo][e]\n",
    "\n",
    "this will match any of the characters in first square bracket followed by the next any of the characters in second"
   ]
  },
  {
   "cell_type": "code",
   "execution_count": 33,
   "metadata": {},
   "outputs": [
    {
     "name": "stdout",
     "output_type": "stream",
     "text": [
      "matches 1\n"
     ]
    }
   ],
   "source": [
    "# [hlo][eos]\n",
    "\n",
    "pattern = r\"[hlo][es]\"\n",
    "\n",
    "if re.match(pattern, \"hello\"):\n",
    "    print (\"matches 1\")\n",
    "else:\n",
    "    print (\"does not match 1\")"
   ]
  },
  {
   "cell_type": "markdown",
   "metadata": {},
   "source": [
    "## matching using range of characters\n",
    "\n",
    "[a-z] matches any lowercase alphabetic charater\n",
    "\n",
    "similarly\n",
    "\n",
    "[A-Z] any uppercase\n",
    "\n",
    "[0-9] any number"
   ]
  },
  {
   "cell_type": "code",
   "execution_count": 39,
   "metadata": {},
   "outputs": [
    {
     "name": "stdout",
     "output_type": "stream",
     "text": [
      "Match 1\n"
     ]
    }
   ],
   "source": [
    "# [range of characters]\n",
    "\n",
    "pattern = r\"[0-9][a-z][A-Z]\"\n",
    "\n",
    "if re.search(pattern, \"6fT\"):\n",
    "   print(\"Match 1\")\n",
    "\n",
    "if re.search(pattern, \"3FT\"):\n",
    "   print(\"Match 2\")"
   ]
  },
  {
   "cell_type": "markdown",
   "metadata": {},
   "source": [
    "> we can use ^ to invert the match"
   ]
  },
  {
   "cell_type": "code",
   "execution_count": 40,
   "metadata": {},
   "outputs": [
    {
     "name": "stdout",
     "output_type": "stream",
     "text": [
      "Match 2\n"
     ]
    }
   ],
   "source": [
    "# ^\n",
    "\n",
    "pattern = r\"[^0-9][a-z][A-Z]\"\n",
    "\n",
    "if re.search(pattern, \"6fT\"):\n",
    "   print(\"Match 1\")\n",
    "\n",
    "if re.search(pattern, \"sfT\"):\n",
    "   print(\"Match 2\")"
   ]
  },
  {
   "cell_type": "markdown",
   "metadata": {},
   "source": [
    "i.e., it matches everything other than what is listed"
   ]
  },
  {
   "cell_type": "markdown",
   "metadata": {},
   "source": [
    "> some more metacharacters are *,+,?,{and}.\n",
    "\n",
    "* means zero or more repetitions of the specified string"
   ]
  },
  {
   "cell_type": "code",
   "execution_count": 43,
   "metadata": {},
   "outputs": [
    {
     "name": "stdout",
     "output_type": "stream",
     "text": [
      "Match 1\n",
      "Match 2\n"
     ]
    }
   ],
   "source": [
    "# *\n",
    "\n",
    "pattern = r\"hello(this)*\"\n",
    "\n",
    "if re.search(pattern, \"hello\"):\n",
    "   print(\"Match 1\")\n",
    "\n",
    "if re.search(pattern, \"hello this is good\"):\n",
    "   print(\"Match 2\")\n",
    "\n",
    "if re.search(pattern, \"this is good\"):\n",
    "   print(\"Match 3\")\n",
    "\n"
   ]
  },
  {
   "cell_type": "markdown",
   "metadata": {},
   "source": [
    "> the above example matches the string that starts with hello followed by zero or more repetitions"
   ]
  },
  {
   "cell_type": "markdown",
   "metadata": {},
   "source": [
    "### + is similar to * but instead of zero or more repetitions it is 1 or more repetitions"
   ]
  },
  {
   "cell_type": "code",
   "execution_count": 46,
   "metadata": {},
   "outputs": [
    {
     "name": "stdout",
     "output_type": "stream",
     "text": [
      "Match 2\n"
     ]
    }
   ],
   "source": [
    "pattern = r\"hello(this)+\"\n",
    "\n",
    "if re.search(pattern, \"hello\"):\n",
    "   print(\"Match 1\")\n",
    "\n",
    "if re.search(pattern, \"hellothis is good\"):\n",
    "   print(\"Match 2\")\n",
    "\n",
    "if re.search(pattern, \"this is good\"):\n",
    "   print(\"Match 3\")\n"
   ]
  },
  {
   "cell_type": "markdown",
   "metadata": {},
   "source": [
    "### ? means zero or one repetitions"
   ]
  },
  {
   "cell_type": "code",
   "execution_count": 51,
   "metadata": {},
   "outputs": [
    {
     "name": "stdout",
     "output_type": "stream",
     "text": [
      "Match 1\n",
      "Match 2\n"
     ]
    }
   ],
   "source": [
    "# ?\n",
    "\n",
    "pattern = r\"mango(!)?juice\"\n",
    "\n",
    "if re.search(pattern, \"mangojuice\"):\n",
    "   print(\"Match 1\")\n",
    "\n",
    "if re.search(pattern, \"mango!juice\"):\n",
    "   print(\"Match 2\")\n",
    "\n",
    "if re.search(pattern, \"mango!!juice\"):\n",
    "   print(\"Match 3\")\n"
   ]
  },
  {
   "cell_type": "markdown",
   "metadata": {},
   "source": [
    "### instead of using above metacharacters we can use {} and specify no of repetitions to accept"
   ]
  },
  {
   "cell_type": "code",
   "execution_count": 3,
   "metadata": {},
   "outputs": [
    {
     "name": "stdout",
     "output_type": "stream",
     "text": [
      "Match 1\n",
      "Match 2\n",
      "Match 3\n"
     ]
    }
   ],
   "source": [
    "# {0,2}\n",
    "\n",
    "pattern = r\"mango(!){0,2}juice\"\n",
    "\n",
    "if re.search(pattern, \"mangojuice\"):\n",
    "   print(\"Match 1\")\n",
    "\n",
    "if re.search(pattern, \"mango!juice\"):\n",
    "   print(\"Match 2\")\n",
    "\n",
    "if re.search(pattern, \"mango!!juice\"):\n",
    "   print(\"Match 3\")\n"
   ]
  },
  {
   "cell_type": "markdown",
   "metadata": {},
   "source": [
    "# Groups"
   ]
  },
  {
   "cell_type": "markdown",
   "metadata": {
    "collapsed": true
   },
   "source": [
    "surrounding part of a regular expression with parentheses creates a group.\n",
    "\n",
    "we can give this group as an argument to the metacharacters we have seen above."
   ]
  },
  {
   "cell_type": "code",
   "execution_count": 4,
   "metadata": {},
   "outputs": [
    {
     "name": "stdout",
     "output_type": "stream",
     "text": [
      "Match 1\n",
      "Match 2\n"
     ]
    }
   ],
   "source": [
    "# (best)*\n",
    "\n",
    "pattern = r\"(best)*mangojuice\"\n",
    "\n",
    "if re.search(pattern, \"mangojuice\"):\n",
    "   print(\"Match 1\")\n",
    "\n",
    "if re.search(pattern, \"bestmangojuice\"):\n",
    "   print(\"Match 2\")"
   ]
  },
  {
   "cell_type": "markdown",
   "metadata": {},
   "source": [
    "> contents of group fuction can be accesed using group function"
   ]
  },
  {
   "cell_type": "code",
   "execution_count": 6,
   "metadata": {},
   "outputs": [
    {
     "name": "stdout",
     "output_type": "stream",
     "text": [
      "123456789\n",
      "123456789\n",
      "234\n",
      "789\n",
      "('234', '56', '789', '8')\n"
     ]
    }
   ],
   "source": [
    "pattern = r\"1(234)(56)(7(8)9)\"\n",
    "\n",
    "match = re.match(pattern, \"1234567890\")\n",
    "if match:\n",
    "   print(match.group())\n",
    "   print(match.group(0))\n",
    "   print(match.group(1))\n",
    "   print(match.group(3))\n",
    "   print(match.groups())"
   ]
  },
  {
   "cell_type": "markdown",
   "metadata": {},
   "source": [
    "group(0) or group() returns the whole match. \n",
    "group(n), where n is greater than 0, returns the nth group from the left. \n",
    "The method groups() returns all groups up from 1."
   ]
  },
  {
   "cell_type": "markdown",
   "metadata": {},
   "source": [
    "> some special groups are __named groups__ and __non_capturing groups__"
   ]
  },
  {
   "cell_type": "markdown",
   "metadata": {},
   "source": [
    "named groups as the name suggests the groups can be named there format is (?P<name>aaa) where name is the name of the group and aaa is content\n",
    "\n",
    "non_capturing groups as the names suggests cannot be accesed by group method.\n",
    "format (?:aaa) whee aaa is the content of the group."
   ]
  },
  {
   "cell_type": "code",
   "execution_count": 8,
   "metadata": {},
   "outputs": [
    {
     "name": "stdout",
     "output_type": "stream",
     "text": [
      "234\n",
      "3\n"
     ]
    }
   ],
   "source": [
    "# ?P<...> named groups & ?: unidentified groups\n",
    "\n",
    "pattern = r\"1(?P<name>234)(?:56)(7(8)9)\"\n",
    "\n",
    "match = re.match(pattern, \"1234567890\")\n",
    "if match:\n",
    "   print(match.group(\"name\"))\n",
    "   print(match.groups())\n",
    "   print(len(match.groups()))"
   ]
  },
  {
   "cell_type": "markdown",
   "metadata": {},
   "source": [
    "Here we can see that the no 56 is not being accessed by group method."
   ]
  },
  {
   "cell_type": "markdown",
   "metadata": {},
   "source": [
    "### metacharacter | which means or"
   ]
  },
  {
   "cell_type": "code",
   "execution_count": 9,
   "metadata": {},
   "outputs": [
    {
     "name": "stdout",
     "output_type": "stream",
     "text": [
      "Match 1\n",
      "Match 2\n"
     ]
    }
   ],
   "source": [
    "# | (or)\n",
    "\n",
    "pattern = r\"gr(ea|ee)t\"\n",
    "\n",
    "match = re.match(pattern, \"great\")\n",
    "if match:\n",
    "   print (\"Match 1\")\n",
    "\n",
    "match = re.match(pattern, \"greet\")\n",
    "if match:\n",
    "   print (\"Match 2\")    \n",
    "\n",
    "match = re.match(pattern, \"goes\")\n",
    "if match:\n",
    "    print (\"Match 3\")"
   ]
  },
  {
   "cell_type": "markdown",
   "metadata": {
    "collapsed": true
   },
   "source": [
    "# Special Sequences"
   ]
  },
  {
   "cell_type": "markdown",
   "metadata": {},
   "source": [
    "Various special sequences can be used with regular expreesions.\n",
    "\n",
    "one common way to do this by using backlash followed by a number which indicates no of sequences of that pattern."
   ]
  },
  {
   "cell_type": "code",
   "execution_count": 10,
   "metadata": {},
   "outputs": [
    {
     "name": "stdout",
     "output_type": "stream",
     "text": [
      "Match 1\n",
      "Match 3\n"
     ]
    }
   ],
   "source": [
    "# \\1 backlash & number special sequence\n",
    "\n",
    "pattern = r\"(.+) \\1\"\n",
    "\n",
    "match = re.match(pattern, \"great great\")\n",
    "if match:\n",
    "   print (\"Match 1\")\n",
    "\n",
    "match = re.match(pattern, \"good great\")\n",
    "if match:\n",
    "   print (\"Match 2\")    \n",
    "\n",
    "match = re.match(pattern, \"abc abc abc\")\n",
    "if match:\n",
    "    print (\"Match 3\")  "
   ]
  },
  {
   "cell_type": "markdown",
   "metadata": {},
   "source": [
    "> we can see that the above expression matches for one or more sequences"
   ]
  },
  {
   "cell_type": "code",
   "execution_count": 11,
   "metadata": {},
   "outputs": [
    {
     "name": "stdout",
     "output_type": "stream",
     "text": [
      "Match 2\n"
     ]
    }
   ],
   "source": [
    "# another example\n",
    "\n",
    "\n",
    "pattern = r\"(123|456) \\1\"\n",
    "\n",
    "match = re.match(pattern, \"123456\")\n",
    "if match:\n",
    "   print (\"Match 1\")\n",
    "\n",
    "match = re.match(pattern, \"123 123\")\n",
    "if match:\n",
    "   print (\"Match 2\")    \n",
    "\n",
    "match = re.match(pattern, \"123 456\")\n",
    "if match:\n",
    "    print (\"Match 3\")  "
   ]
  },
  {
   "cell_type": "markdown",
   "metadata": {},
   "source": [
    "# more special sequences"
   ]
  },
  {
   "cell_type": "markdown",
   "metadata": {},
   "source": [
    "> \\d matches all digits, \\s - whitespace, \\w - word characters\n",
    "\n",
    "Another case is\n",
    "\n",
    "> \\D - matches everything except digits, \\W - opposite to word characters, \\S matches all non whitespace"
   ]
  },
  {
   "cell_type": "code",
   "execution_count": 16,
   "metadata": {},
   "outputs": [
    {
     "name": "stdout",
     "output_type": "stream",
     "text": [
      "match 1\n"
     ]
    }
   ],
   "source": [
    "# D & d\n",
    "\n",
    "pattern = r\"(\\D+\\d)\"\n",
    "\n",
    "match = re.match(pattern, \"hello1\")\n",
    "if match:\n",
    "    print (\"match 1\")"
   ]
  },
  {
   "cell_type": "code",
   "execution_count": 32,
   "metadata": {},
   "outputs": [
    {
     "name": "stdout",
     "output_type": "stream",
     "text": [
      "match 1\n"
     ]
    }
   ],
   "source": [
    "# \\W & w\n",
    "\n",
    "\n",
    "pattern = r\"(\\W+\\w)\"\n",
    "\n",
    "match = re.match(pattern, \".,..%sai\")\n",
    "if match:\n",
    "    print (\"match 1\")"
   ]
  },
  {
   "cell_type": "code",
   "execution_count": 36,
   "metadata": {},
   "outputs": [
    {
     "name": "stdout",
     "output_type": "stream",
     "text": [
      "match 1\n"
     ]
    }
   ],
   "source": [
    "# \\S & \\s\n",
    "\n",
    "\n",
    "pattern = r\"(\\S+\\s)\"\n",
    "\n",
    "match = re.match(pattern, \"sai Saketh\")\n",
    "if match:\n",
    "    print (\"match 1\")"
   ]
  },
  {
   "cell_type": "markdown",
   "metadata": {},
   "source": [
    "> Additional Special sequences \n",
    "\n",
    "\\A, \\Z match beginning and end of a string\n",
    "\n",
    "\\b matches empty string between \\w and W\n",
    "\n",
    "\\B matches empty string anywhere else"
   ]
  },
  {
   "cell_type": "code",
   "execution_count": 56,
   "metadata": {},
   "outputs": [
    {
     "name": "stdout",
     "output_type": "stream",
     "text": [
      "match 1\n"
     ]
    }
   ],
   "source": [
    "# \\A, \\Z\n",
    "\n",
    "\n",
    "pattern = r\"\\As.......h\\Z\"\n",
    "\n",
    "match = re.match(pattern, \"saiSaketh\")\n",
    "if match:\n",
    "    print (\"match 1\")"
   ]
  },
  {
   "cell_type": "code",
   "execution_count": 82,
   "metadata": {},
   "outputs": [
    {
     "name": "stdout",
     "output_type": "stream",
     "text": [
      "match 1\n",
      "match 2\n"
     ]
    }
   ],
   "source": [
    "# \\B\n",
    "\n",
    "pattern = r\"\\B(hey)\\B\"\n",
    "\n",
    "match = re.search(pattern,\" helloheythis \")\n",
    "if match:\n",
    "    print (\"match 1\")\n",
    "\n",
    "# \\b    \n",
    "    \n",
    "pattern = r\"\\b(hey)\\b\"\n",
    "    \n",
    "match = re.search(pattern,\"hello!hey this\")\n",
    "if match:\n",
    "    print (\"match 2\")    "
   ]
  },
  {
   "cell_type": "markdown",
   "metadata": {},
   "source": [
    "# matching email address"
   ]
  },
  {
   "cell_type": "code",
   "execution_count": 91,
   "metadata": {},
   "outputs": [
    {
     "name": "stdout",
     "output_type": "stream",
     "text": [
      "thankyou@gmail.com\n"
     ]
    }
   ],
   "source": [
    "import re\n",
    "\n",
    "pattern = r\"([\\w\\.-]+)@([\\w\\.-]+)(\\.[\\w\\.]+)\"\n",
    "str = \"Please visit sololearn.com for learning thankyou@gmail.com\"\n",
    "\n",
    "match = re.search(pattern, str)\n",
    "if match:\n",
    "   print(match.group())"
   ]
  },
  {
   "cell_type": "code",
   "execution_count": null,
   "metadata": {
    "collapsed": true
   },
   "outputs": [],
   "source": []
  }
 ],
 "metadata": {
  "kernelspec": {
   "display_name": "Python 3",
   "language": "python",
   "name": "python3"
  },
  "language_info": {
   "codemirror_mode": {
    "name": "ipython",
    "version": 3
   },
   "file_extension": ".py",
   "mimetype": "text/x-python",
   "name": "python",
   "nbconvert_exporter": "python",
   "pygments_lexer": "ipython3",
   "version": "3.6.1"
  }
 },
 "nbformat": 4,
 "nbformat_minor": 2
}
